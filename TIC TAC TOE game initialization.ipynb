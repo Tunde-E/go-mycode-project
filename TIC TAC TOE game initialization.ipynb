{
 "cells": [
  {
   "cell_type": "code",
   "execution_count": null,
   "id": "b5aa0aec-cc76-46c7-8a54-405ec1c39d27",
   "metadata": {},
   "outputs": [
    {
     "name": "stdout",
     "output_type": "stream",
     "text": [
      "||\n",
      "-----\n",
      "||\n",
      "-----\n",
      "||\n",
      "-----\n",
      "['panel', 'position 1', 'position 2', 'position 3', 'position 4', 'position 5', 'position 6', 'position 7', 'position 8', 'position 9']\n"
     ]
    }
   ],
   "source": [
    "import tkinter as tk\n",
    "from tkinter import messagebox\n",
    "root = tk.Tk()\n",
    "root.title(\"TIC-TAC-TOE\")\n",
    "\n",
    "def create_board():\n",
    "    return[\n",
    "        ['','',''],\n",
    "        ['','',''],\n",
    "        ['','','']\n",
    "    ]\n",
    "\n",
    "def display_board(board):\n",
    "    for row in board:\n",
    "        print (\"|\".join(row))\n",
    "        print(\"-----\")\n",
    "        \n",
    "game_board = create_board()\n",
    "display_board(game_board)\n",
    "\n",
    "digits = [1,2,3,4,5,6,7,8,9]\n",
    "\n",
    "mark = (' ')\n",
    "\n",
    "count = 0\n",
    "\n",
    "panels = ['panel'] + [f'position {i}' for i in range(1, 10)]\n",
    "print(panels)\n",
    "\n",
    "root.mainloop()"
   ]
  }
 ],
 "metadata": {
  "kernelspec": {
   "display_name": "Python [conda env:base] *",
   "language": "python",
   "name": "conda-base-py"
  },
  "language_info": {
   "codemirror_mode": {
    "name": "ipython",
    "version": 3
   },
   "file_extension": ".py",
   "mimetype": "text/x-python",
   "name": "python",
   "nbconvert_exporter": "python",
   "pygments_lexer": "ipython3",
   "version": "3.12.7"
  }
 },
 "nbformat": 4,
 "nbformat_minor": 5
}
