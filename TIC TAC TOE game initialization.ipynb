{
 "cells": [
  {
   "cell_type": "code",
   "execution_count": null,
   "id": "b5aa0aec-cc76-46c7-8a54-405ec1c39d27",
   "metadata": {},
   "outputs": [
    {
     "name": "stdout",
     "output_type": "stream",
     "text": [
      "['panel', 'position 1', 'position 2', 'position 3', 'position 4', 'position 5', 'position 6', 'position 7', 'position 8', 'position 9']\n"
     ]
    }
   ],
   "source": [
    "import tkinter as tk\n",
    "from tkinter import messagebox\n",
    "window = tk.Tk()\n",
    "window.title(\"TIC-TAC-TOE\")\n",
    "\n",
    "digits = [1,2,3,4,5,6,7,8,9]\n",
    "\n",
    "mark = (' ')\n",
    "\n",
    "count = 0\n",
    "\n",
    "panels = ['panel'] + [f'position {i}' for i in range(1, 10)]\n",
    "print(panels)\n",
    "\n",
    "window.mainloop()"
   ]
  },
  {
   "cell_type": "code",
   "execution_count": null,
   "id": "9ee08f3a-e99d-4194-8c1e-dc2adc6ea452",
   "metadata": {},
   "outputs": [],
   "source": []
  }
 ],
 "metadata": {
  "kernelspec": {
   "display_name": "Python [conda env:base] *",
   "language": "python",
   "name": "conda-base-py"
  },
  "language_info": {
   "codemirror_mode": {
    "name": "ipython",
    "version": 3
   },
   "file_extension": ".py",
   "mimetype": "text/x-python",
   "name": "python",
   "nbconvert_exporter": "python",
   "pygments_lexer": "ipython3",
   "version": "3.12.7"
  }
 },
 "nbformat": 4,
 "nbformat_minor": 5
}
