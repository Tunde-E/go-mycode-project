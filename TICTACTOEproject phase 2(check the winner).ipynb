{
 "cells": [
  {
   "cell_type": "code",
   "execution_count": 4,
   "id": "3d19a2b5-9fba-45bd-bdd8-1e5891ee25b9",
   "metadata": {},
   "outputs": [],
   "source": [
    "import tkinter as tk\n",
    "import tkinter.messagebox as MessageBox\n",
    "\n",
    "root = tk.Tk()\n",
    "root.title(\"TIC-TAC-TOE\")\n",
    "\n",
    "digits = [1, 2, 3, 4, 5, 6, 7, 8, 9]\n",
    "\n",
    "mark = ''\n",
    "\n",
    "count = 0\n",
    "\n",
    "panels = ['panel', 1, 2, 3, 4, 5, 6, 7, 8, 9]\n",
    "\n",
    "def checker(digit):\n",
    "    global count, mark, digits, panels, buttons\n",
    "    \n",
    "    if digit in digits:\n",
    "        digits.remove(digit)\n",
    "\n",
    "        if count % 2 == 0:\n",
    "            mark = 'X'\n",
    "        else:\n",
    "            mark = 'O'\n",
    "\n",
    "        panels[digit] = mark\n",
    "        buttons[digit-1].config(text=mark)\n",
    "\n",
    "        count += 1\n",
    "\n",
    "        if win(mark):\n",
    "            MessageBox.showinfo(\"Game Over\", f\"Player {mark} wins!\")\n",
    "            root.destroy()\n",
    "            return\n",
    "\n",
    "        if count > 8:\n",
    "            MessageBox.showinfo(\"Game Over\", \"Match Tied!\")\n",
    "            root.destroy()\n",
    "\n",
    "def win(current_mark):\n",
    "    win_conditions = [\n",
    "        [1, 2, 3], [4, 5, 6], [7, 8, 9],\n",
    "        [1, 4, 7], [2, 5, 8], [3, 6, 9],\n",
    "        [1, 5, 9], [3, 5, 7]\n",
    "    ]\n",
    "    \n",
    "    for condition in win_conditions:\n",
    "        if panels[condition[0]] == panels[condition[1]] == panels[condition[2]] == current_mark:\n",
    "            return True\n",
    "    return False\n",
    "\n",
    "buttons = []\n",
    "for i in range(1, 10):\n",
    "    button = tk.Button(root, text=str(panels[i]), width=10, height=3, \n",
    "                       command=lambda i=i: checker(i)) \n",
    "    button.grid(row=(i-1)//3, column=(i-1)%3)\n",
    "    buttons.append(button)\n",
    "\n",
    "root.mainloop()"
   ]
  },
  {
   "cell_type": "code",
   "execution_count": null,
   "id": "a2f67b54-01d6-4f98-988e-b3684fff7cce",
   "metadata": {},
   "outputs": [],
   "source": []
  },
  {
   "cell_type": "code",
   "execution_count": null,
   "id": "0f90378c-b2b6-40d8-804b-a3bdcc5b58da",
   "metadata": {},
   "outputs": [],
   "source": []
  }
 ],
 "metadata": {
  "kernelspec": {
   "display_name": "Python [conda env:base] *",
   "language": "python",
   "name": "conda-base-py"
  },
  "language_info": {
   "codemirror_mode": {
    "name": "ipython",
    "version": 3
   },
   "file_extension": ".py",
   "mimetype": "text/x-python",
   "name": "python",
   "nbconvert_exporter": "python",
   "pygments_lexer": "ipython3",
   "version": "3.12.7"
  }
 },
 "nbformat": 4,
 "nbformat_minor": 5
}
